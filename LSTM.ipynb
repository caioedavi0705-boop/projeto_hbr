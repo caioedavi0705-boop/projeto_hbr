{
 "cells": [
  {
   "cell_type": "code",
   "execution_count": null,
   "id": "85abb849",
   "metadata": {},
   "outputs": [],
   "source": [
    "import numpy as np\n",
    "import pandas as pd\n"
   ]
  },
  {
   "cell_type": "code",
   "execution_count": null,
   "id": "09f89e92",
   "metadata": {},
   "outputs": [],
   "source": [
    "##Importação dos dados de treino"
   ]
  },
  {
   "cell_type": "code",
   "execution_count": null,
   "id": "c39424a0",
   "metadata": {},
   "outputs": [],
   "source": [
    "fd001_train = pd.read_csv(\"train_FD001.txt\",\n",
    "                    sep='\\s+',\n",
    "                    header= None)  \n",
    "\n",
    "fd001_test = pd.read_csv(\"test_FD001.txt\",\n",
    "                    sep='\\s+',\n",
    "                    header= None) \n",
    "\n",
    "rul001 = pd.read_csv(\"RUL_FD001.txt\",sep='\\s+',header= None) "
   ]
  },
  {
   "cell_type": "code",
   "execution_count": null,
   "id": "03db03a5",
   "metadata": {},
   "outputs": [],
   "source": [
    "##Remoção de colunas inteiramente preenchidas por NaN"
   ]
  },
  {
   "cell_type": "code",
   "execution_count": null,
   "id": "bb14ec9b",
   "metadata": {},
   "outputs": [],
   "source": [
    "fd001_train = fd001_train.dropna(axis=1,how='all')\n",
    "fd001_test = fd001_test.dropna(axis=1,how='all')"
   ]
  },
  {
   "cell_type": "code",
   "execution_count": null,
   "id": "a575cb42",
   "metadata": {},
   "outputs": [],
   "source": [
    "##Introdução do cabeçalho do data frame"
   ]
  },
  {
   "cell_type": "code",
   "execution_count": null,
   "id": "25379ea5",
   "metadata": {},
   "outputs": [],
   "source": [
    "cabecalho1 = [\"ID\",\"Nº Ciclos\",\"Altitude [ft]\", \"Mach\",\"TRA\", \"T2 [°R]\", \"T24 [°R]\", \"T30 [°R]\", \n",
    "             \"T50[°R]\", \"P2 [psia]\", \"P15 [psia]\", \"P30 [psia]\", \"Nf [rpm]\", \"Nc [rpm]\", \"epr [-]\",\n",
    "             \"Ps30 [psia]\", \"phi [pps/psi]\", \"NRf [rpm]\", \"NRc [rpm]\", \"BPR [-]\", \"farB [-]\",\n",
    "             \"htBleed [-]\", \"Nf_dmd [rpm]\", \"PCNfR_dmd [rpm]\", \"W31 [lbm/s]\", \"W32 [lbm/s]\"] \n",
    "fd001_train.columns = cabecalho1 \n",
    "fd001_test.columns = cabecalho1  \n",
    "cabecalho2 = [\"rul\"]\n",
    "rul001.columns = cabecalho2\n",
    "\n",
    "print(fd001_train.head())"
   ]
  },
  {
   "cell_type": "code",
   "execution_count": null,
   "id": "fcd9f90f",
   "metadata": {},
   "outputs": [],
   "source": [
    "##Geração de Histogramas e seleção de variáveis"
   ]
  },
  {
   "cell_type": "code",
   "execution_count": null,
   "id": "e2e1e9a6",
   "metadata": {},
   "outputs": [],
   "source": [
    "import seaborn as sns \n",
    "import matplotlib.pyplot as plt"
   ]
  },
  {
   "cell_type": "code",
   "execution_count": null,
   "id": "7b9df596",
   "metadata": {},
   "outputs": [],
   "source": [
    "fig,axes=plt.subplots(nrows=6,ncols=4,figsize=(20,16))\n",
    "axes=axes.ravel()\n",
    "for i,item in enumerate(fd001_train.columns[2:]):\n",
    "    sns.histplot(fd001_train[item],bins=50,ax=axes[i])\n",
    "    axes[i].set_title(f'{item}')\n",
    "    axes[i].set_xlabel('')\n",
    "    axes[i].set_ylabel('') \n",
    "\n",
    "plt.tight_layout()\n",
    "plt.show()"
   ]
  },
  {
   "cell_type": "code",
   "execution_count": null,
   "id": "db8bc4a5",
   "metadata": {},
   "outputs": [],
   "source": [
    "features_train =fd001_train.drop(columns=['TRA','T2 [°R]','P2 [psia]','epr [-]',\n",
    "                                    'farB [-]', 'PCNfR_dmd [rpm]'])\n",
    "\n",
    "features_test =fd001_test.drop(columns=['TRA','T2 [°R]','P2 [psia]','epr [-]',\n",
    "                                    'farB [-]','PCNfR_dmd [rpm]']) "
   ]
  },
  {
   "cell_type": "code",
   "execution_count": null,
   "id": "e387261a",
   "metadata": {},
   "outputs": [],
   "source": [
    "##Normalização "
   ]
  },
  {
   "cell_type": "code",
   "execution_count": null,
   "id": "d09cda84",
   "metadata": {},
   "outputs": [],
   "source": [
    "from sklearn.preprocessing import MinMaxScaler\n",
    "\n",
    "features=features_train.columns[2:]\n",
    "scaler = MinMaxScaler()\n",
    "features_train[features] = scaler.fit_transform(features_train[features])\n",
    "features_test[features]=scaler.transform(features_test[features]) "
   ]
  },
  {
   "cell_type": "code",
   "execution_count": null,
   "id": "2133920b",
   "metadata": {},
   "outputs": [],
   "source": [
    "##Definição dos targets para regressão e classificação nos dados de treino"
   ]
  },
  {
   "cell_type": "code",
   "execution_count": null,
   "id": "bb4f481d",
   "metadata": {},
   "outputs": [],
   "source": [
    "limit_r = 130 \n",
    "limit_c = 50\n",
    "max_ciclos = fd001_train.groupby('ID')['Nº Ciclos'].max().reset_index()\n",
    "rul_train = []\n",
    "for m in fd001_train['ID'].unique():\n",
    "    motor = fd001_train[fd001_train['ID']==m]\n",
    "    aux=[]\n",
    "    for k in range(len(motor['Nº Ciclos'])):\n",
    "        if k+1 <= max_ciclos['Nº Ciclos'].iloc[m-1]-limit_r:\n",
    "            aux.append(limit_r)\n",
    "        else:\n",
    "            aux.append(max_ciclos['Nº Ciclos'].iloc[m-1]-\n",
    "                       motor['Nº Ciclos'].iloc[k]) \n",
    "    rul_train.extend(aux) \n",
    "rul_train = [int(x) for x in rul_train]\n",
    "label_train = [1 if x >= limit_c else 0 for x in rul_train]"
   ]
  },
  {
   "cell_type": "code",
   "execution_count": null,
   "id": "52e5cc2f",
   "metadata": {},
   "outputs": [],
   "source": [
    "##Visualização de um ciclo de vida de um motor "
   ]
  },
  {
   "cell_type": "code",
   "execution_count": null,
   "id": "5acab5f1",
   "metadata": {},
   "outputs": [],
   "source": [
    "exemplo = fd001_train[fd001_train['ID']==1]\n",
    "l=len(exemplo['Nº Ciclos'])\n",
    "\n",
    "plt.figure(figsize=(10,6))\n",
    "\n",
    "plt.plot(exemplo['Nº Ciclos'].iloc[0:l],rul_train[0:l],c='red')\n",
    "plt.title('Representação do ciclo de vida do motor ID = 1')\n",
    "plt.ylim(0,140)\n",
    "plt.xlim(0,200)\n",
    "plt.xlabel('Ciclo do motor')\n",
    "plt.ylabel('RUL')\n",
    "plt.show()"
   ]
  },
  {
   "cell_type": "code",
   "execution_count": null,
   "id": "eca18ec1",
   "metadata": {},
   "outputs": [],
   "source": [
    "##Definição dos targets para regressão e classificação nos dados de teste "
   ]
  },
  {
   "cell_type": "code",
   "execution_count": null,
   "id": "e128102f",
   "metadata": {},
   "outputs": [],
   "source": [
    "max_ciclos_test = fd001_test.groupby('ID')['Nº Ciclos'].max().reset_index()\n",
    "rul_test = []\n",
    "for m in fd001_test['ID'].unique():\n",
    "    engine = fd001_test[fd001_test['ID']==m]\n",
    "    for k in range(len(engine['Nº Ciclos'])):\n",
    "        rul_aux=(max_ciclos_test['Nº Ciclos'].iloc[m-1]-\n",
    "                 engine['Nº Ciclos'].iloc[k])\n",
    "        v = rul_aux+rul001['rul'].iloc[m-1]\n",
    "        if v >= limit_r:\n",
    "            rul_test.append(limit_r)\n",
    "        else:\n",
    "            rul_test.append(v)\n",
    "rul_test = [int(x) for x in rul_test]\n",
    "label_test = [1 if x >= limit_c else 0 for x in rul_test] "
   ]
  },
  {
   "cell_type": "code",
   "execution_count": null,
   "id": "b87a1aa3",
   "metadata": {},
   "outputs": [],
   "source": [
    "##Criação das janelas de tempo para dados de treino e de teste"
   ]
  },
  {
   "cell_type": "code",
   "execution_count": null,
   "id": "c92b5c74",
   "metadata": {},
   "outputs": [],
   "source": [
    "def time_window(data,rul,label,window_size,step):\n",
    "    x,y_r,y_c = [], [], []\n",
    "    l=0\n",
    "    for m in data['ID'].unique():\n",
    "        engine = data[data['ID']==m]\n",
    "        for i in range(0,len(engine)-window_size+1,step):\n",
    "            f= i + window_size\n",
    "            x.append(engine.iloc[i:f,2:].values)\n",
    "            y_r.append(rul[l+f-1]) \n",
    "            y_c.append(label[l+f-1])\n",
    "        l += len(engine)\n",
    "    return np.array(x), np.array(y_r), np.array(y_c)\n",
    "window_size = 30\n",
    "step = 1\n",
    "x_train, y_train_r,y_train_c= time_window(features_train,rul_train,\n",
    "                                                        label_train,window_size,step)\n",
    "\n",
    "print(x_train.shape,y_train_r.shape,y_train_c.shape)  \n",
    "x_test, y_test_r,y_test_c = time_window(features_test,rul_test,\n",
    "                                                        label_test,window_size,step)\n",
    "print(x_test.shape,y_test_r.shape,y_test_c.shape)"
   ]
  },
  {
   "cell_type": "code",
   "execution_count": null,
   "id": "27288ec6",
   "metadata": {},
   "outputs": [],
   "source": [
    "##Separação das variáveis de treino e teste"
   ]
  },
  {
   "cell_type": "code",
   "execution_count": null,
   "id": "77a677f5",
   "metadata": {},
   "outputs": [],
   "source": [
    "from sklearn.model_selection import train_test_split\n",
    "\n",
    "x1,x2,y1,y2 = train_test_split(x_train,y_train_r,test_size=0.2,random_state=1)\n",
    "x3,x4,y3,y4 = train_test_split(x_train,y_train_c,test_size=0.2,random_state=1) \n",
    "\n",
    "x1=x1.astype('float32')\n",
    "x2=x2.astype('float32')\n",
    "x3=x3.astype('float32')\n",
    "x4=x4.astype('float32')\n",
    "y1=y1.astype('float32')\n",
    "y2=y2.astype('float32')\n",
    "y3=y3.astype('float32')\n",
    "y4=y4.astype('float32')\n"
   ]
  },
  {
   "cell_type": "code",
   "execution_count": null,
   "id": "a209eb79",
   "metadata": {},
   "outputs": [],
   "source": [
    "##Criação do modelo regressão"
   ]
  },
  {
   "cell_type": "code",
   "execution_count": null,
   "id": "9e9fafa3",
   "metadata": {},
   "outputs": [],
   "source": [
    "from tensorflow import keras \n",
    "from keras import layers\n",
    "from keras.models import Sequential\n",
    "from keras.metrics import AUC\n",
    "from keras.layers import LSTM,Dense,Dropout\n",
    "from keras.optimizers import RMSprop, Adam\n",
    "from keras.callbacks import EarlyStopping, ModelCheckpoint\n",
    "import tensorflow as tf \n",
    "import keras_tuner\n",
    "import time"
   ]
  },
  {
   "cell_type": "code",
   "execution_count": null,
   "id": "08de4420",
   "metadata": {},
   "outputs": [],
   "source": [
    "shape1 = (x1.shape[1], x1.shape[2])\n",
    "\n",
    "def build_model_regression(hp):\n",
    "    model=Sequential()\n",
    "    n_layers_lstm_r=hp.Int('layers_lstm_r',1,4)\n",
    "    n_layers_dense_r=hp.Int('layers_dense_r',1,3)\n",
    "    model.add(LSTM(hp.Int('lstm_r_0',min_value=32,max_value=256,step=32),\n",
    "                   activation='tanh',\n",
    "                   return_sequences=True,input_shape=shape1))\n",
    "    for i in range(n_layers_lstm_r):\n",
    "        return_seq = i <n_layers_lstm_r -1\n",
    "        model.add(LSTM(hp.Int(f'lstm_r_{i}',min_value=32,max_value=256,step=32),\n",
    "                       activation='tanh',\n",
    "                       return_sequences=return_seq))\n",
    "    if hp.Boolean(\"dropout\"):\n",
    "        model.add(Dropout(0.25))\n",
    "    for i in range(n_layers_dense_r):\n",
    "        model.add(Dense(hp.Int(f'dense_r_{i+1}',min_value=32,max_value=256,step=32),\n",
    "                activation='relu'))\n",
    "    model.add(Dense(1,activation='linear'))\n",
    "    model.compile(optimizer=RMSprop(learning_rate=hp.Choice('learning_rate_r',[0.01,0.001,0.0001])), \n",
    "                  loss='mse', \n",
    "              metrics=['mean_squared_error','mean_absolute_error'])\n",
    "    return model \n",
    "\n",
    "start=time.time()\n",
    "tuner_regression = keras_tuner.RandomSearch(build_model_regression,\n",
    "                           objective='val_loss',\n",
    "                           max_trials=10,\n",
    "                           directory='C:/Users/davim/keras',\n",
    "                           project_name='hiper_regression',\n",
    "                           overwrite=True)\n",
    "\n",
    "tuner_regression.search(x1,y1,epochs=10,validation_data=(x2,y2))\n",
    "best_model_regression=tuner_regression.get_best_models()[0]\n",
    "best_model_regression.summary()"
   ]
  },
  {
   "cell_type": "code",
   "execution_count": null,
   "id": "80fac92d",
   "metadata": {},
   "outputs": [],
   "source": [
    "##Treinando o modelo com os melhores hiperparâmetros"
   ]
  },
  {
   "cell_type": "code",
   "execution_count": null,
   "id": "f112e5be",
   "metadata": {},
   "outputs": [],
   "source": [
    "early_stopping = EarlyStopping(monitor='val_loss', patience=5)\n",
    "model_checkpoint = ModelCheckpoint('lstm_model_r.h5', monitor='val_loss')\n",
    "history_r=best_model_regression.fit(x1,y1,validation_data=(x2,y2),epochs=100,batch_size=200,\n",
    "                                  callbacks=[early_stopping,model_checkpoint]) \n",
    "\n",
    "plt.figure(figsize=(10, 6))\n",
    "\n",
    "plt.subplot(1, 2, 1)\n",
    "plt.plot(history_r.history['loss'], label='Loss do treino')\n",
    "plt.plot(history_r.history['val_loss'], label='Loss da validação')\n",
    "plt.xlabel('Epoch')\n",
    "plt.ylabel('Loss (MSE)')\n",
    "plt.legend(loc='upper right')\n",
    "\n",
    "plt.subplot(1, 2, 2)\n",
    "plt.plot(history_r.history['mean_absolute_error'], label='MAE do treino')\n",
    "plt.plot(history_r.history['val_mean_absolute_error'], label='MAE do validação')\n",
    "plt.ylabel('Erro Médio Absoluto (MAE)')\n",
    "plt.xlabel('Epoch')\n",
    "plt.legend(loc='upper right')\n",
    "\n",
    "plt.suptitle('Avaliação do treinamento')\n",
    "plt.tight_layout()\n",
    "plt.show()"
   ]
  },
  {
   "cell_type": "code",
   "execution_count": null,
   "id": "5449c261",
   "metadata": {},
   "outputs": [],
   "source": [
    "##Testando o modelo com os dados de teste"
   ]
  },
  {
   "cell_type": "code",
   "execution_count": null,
   "id": "27804596",
   "metadata": {},
   "outputs": [],
   "source": [
    "rul_prev_r = best_model_regression.predict(x_test).reshape(-1)\n",
    "rul_prev_r = [float(x) for x in rul_prev_r]\n",
    "end=time.time()"
   ]
  },
  {
   "cell_type": "code",
   "execution_count": null,
   "id": "8e54ead4",
   "metadata": {},
   "outputs": [],
   "source": [
    "##Avaliando o modelo"
   ]
  },
  {
   "cell_type": "code",
   "execution_count": null,
   "id": "27a85761",
   "metadata": {},
   "outputs": [],
   "source": [
    "from sklearn.metrics import mean_absolute_error,mean_squared_error,r2_score,mean_absolute_percentage_error\n",
    "print(mean_squared_error(y_test_r,rul_prev_r))\n",
    "print(f'{np.sqrt(mean_squared_error(y_test_r,rul_prev_r)):.2f}')\n",
    "print(mean_absolute_percentage_error(y_test_r,rul_prev_r))\n",
    "print(mean_absolute_error(y_test_r,rul_prev_r))\n",
    "print(r2_score(y_test_r,rul_prev_r))  \n",
    "print(f'Tempo de {end-start}s') \n",
    "\n",
    "n_amostras = 180\n",
    "indices = np.random.choice(len(rul_prev_r),size=n_amostras,replace=False)\n",
    "y_real_amostra_r=np.array(y_test_r)[indices]\n",
    "y_prev_amostra_r=np.array(rul_prev_r)[indices]\n",
    "ordem = np.argsort(y_real_amostra_r)\n",
    "y_real_amostra_r=y_real_amostra_r[ordem]\n",
    "y_prev_amostra_r=y_prev_amostra_r[ordem]\n",
    "\n",
    "plt.figure(figsize=(10,6))\n",
    "plt.scatter(range(len(indices)),y_prev_amostra_r,c='blue',label='RUL previsto')\n",
    "plt.scatter(range(len(indices)),y_real_amostra_r,c='red',label='RUL real')\n",
    "plt.title(f'RUL real vs RUL previsto ({n_amostras} amostras)')\n",
    "plt.ylabel('RUL')\n",
    "plt.xlabel('Index')\n",
    "plt.legend(loc='lower right')\n",
    "\n",
    "for i in range(len(indices)):\n",
    "    plt.plot([i,i],[y_prev_amostra_r[i],y_real_amostra_r[i]],ls='--',c='black',alpha=0.7)\n",
    "\n",
    "plt.show() \n",
    "\n",
    "p = max(y_real_amostra_r[ordem])\n",
    "\n",
    "plt.figure(figsize=(10,6))\n",
    "plt.scatter(y_real_amostra_r,y_prev_amostra_r,c='blue')\n",
    "plt.plot([0,p],[0,p],ls='--',c='red')\n",
    "plt.title(f'RUL real vs RUL previsto ({n_amostras} amostras)')\n",
    "plt.ylabel('RUL previsto')\n",
    "plt.xlabel('RUL real')\n",
    "\n",
    "plt.show() "
   ]
  },
  {
   "cell_type": "code",
   "execution_count": null,
   "id": "773929ea",
   "metadata": {},
   "outputs": [],
   "source": [
    "##Criação modelo classificação"
   ]
  },
  {
   "cell_type": "code",
   "execution_count": null,
   "id": "a220562c",
   "metadata": {},
   "outputs": [],
   "source": [
    "shape2 = (x3.shape[1], x3.shape[2])\n",
    "\n",
    "def build_model_classification(hp):\n",
    "    model=Sequential()\n",
    "    n_layers_lstm_c=hp.Int('layers_lstm_c',1,4)\n",
    "    n_layers_dense_c=hp.Int('layers_dense_c',1,3)\n",
    "    model.add(LSTM(hp.Int('lstm_c_0',min_value=32,max_value=256,step=32),\n",
    "                   activation='tanh',\n",
    "                   return_sequences=True,input_shape=shape2))\n",
    "    for i in range(n_layers_lstm_c):\n",
    "        return_seq = i <n_layers_lstm_c -1\n",
    "        model.add(LSTM(hp.Int(f'lstm_c_{i}',min_value=32,max_value=256,step=32),\n",
    "                       activation='tanh',\n",
    "                       return_sequences=return_seq))\n",
    "    if hp.Boolean(\"dropout\"):\n",
    "        model.add(Dropout(0.25))\n",
    "    for i in range(n_layers_dense_c):\n",
    "        model.add(Dense(hp.Int(f'dense_c_{i+1}',min_value=32,max_value=256,step=32),\n",
    "                        activation='relu'))\n",
    "    model.add(Dense(1,activation='sigmoid'))\n",
    "    model.compile(optimizer=Adam(learning_rate=hp.Choice('learning_rate_c',[0.01,0.001,0.0001])), \n",
    "                  loss='binary_crossentropy', \n",
    "              metrics=['accuracy','AUC'])\n",
    "    return model \n",
    "\n",
    "start=time.time()\n",
    "tuner_classification = keras_tuner.RandomSearch(build_model_classification,\n",
    "                           objective='val_loss',\n",
    "                           max_trials=10,\n",
    "                           directory='C:/Users/davim/keras',\n",
    "                           project_name='hiper_classificassion',\n",
    "                           overwrite=True)\n",
    "\n",
    "tuner_classification.search(x3,y3,epochs=10,validation_data=(x4,y4))\n",
    "best_model_classification=tuner_classification.get_best_models()[0]\n",
    "best_model_classification.summary()"
   ]
  },
  {
   "cell_type": "code",
   "execution_count": null,
   "id": "6229c079",
   "metadata": {},
   "outputs": [],
   "source": [
    "##Treinando o modelo com os hiperparâmetros escolhidos"
   ]
  },
  {
   "cell_type": "code",
   "execution_count": null,
   "id": "29efd8bf",
   "metadata": {},
   "outputs": [],
   "source": [
    "early_stopping = EarlyStopping(monitor='val_loss', patience=5)\n",
    "model_checkpoint = ModelCheckpoint('lstm_model_c.h5', monitor='val_loss')\n",
    "history_c=best_model_classification.fit(x3,y3,validation_data=(x4,y4),\n",
    "                                                     epochs=100,batch_size=200,\n",
    "                                                     callbacks=[early_stopping,model_checkpoint]) \n",
    "\n",
    "plt.figure(figsize=(10, 6))\n",
    "\n",
    "plt.subplot(1, 2, 1)\n",
    "plt.plot(history_c.history['loss'], label='Loss do treino')\n",
    "plt.plot(history_c.history['val_loss'], label='Loss da validação')\n",
    "plt.xlabel('Epoch')\n",
    "plt.ylabel('Loss')\n",
    "plt.legend(loc='upper right')\n",
    "\n",
    "plt.subplot(1, 2, 2)\n",
    "plt.plot(history_c.history['accuracy'], label='Acurácia do treino')\n",
    "plt.plot(history_c.history['val_accuracy'], label='Acurácia da validação')\n",
    "plt.xlabel('Epoch')\n",
    "plt.ylabel('Acurácia')\n",
    "plt.legend(loc='upper right')\n",
    "\n",
    "plt.suptitle('Avaliação do treinamento de classificação')\n",
    "plt.tight_layout()\n",
    "plt.show()"
   ]
  },
  {
   "cell_type": "code",
   "execution_count": null,
   "id": "9b066a7e",
   "metadata": {},
   "outputs": [],
   "source": [
    "##Teste do modelo"
   ]
  },
  {
   "cell_type": "code",
   "execution_count": null,
   "id": "21402a71",
   "metadata": {},
   "outputs": [],
   "source": [
    "rul_prev_c = best_model_classification.predict(x_test).reshape(-1)\n",
    "end=time.time()\n",
    "rul_prev_c_l =np.where(rul_prev_c<0.5,0,1)"
   ]
  },
  {
   "cell_type": "code",
   "execution_count": null,
   "id": "1df889dd",
   "metadata": {},
   "outputs": [],
   "source": [
    "##Avaliação do modelo"
   ]
  },
  {
   "cell_type": "code",
   "execution_count": null,
   "id": "11f623a4",
   "metadata": {},
   "outputs": [],
   "source": [
    "from sklearn.metrics import accuracy_score,f1_score,recall_score,precision_score,confusion_matrix,auc,roc_curve\n",
    "print(accuracy_score(y_test_c,rul_prev_c_l))\n",
    "print(precision_score(y_test_c,rul_prev_c_l))\n",
    "print(recall_score(y_test_c,rul_prev_c_l))\n",
    "print(f1_score(y_test_c,rul_prev_c_l))\n",
    "print(f'Tempo de {end-start}s')\n",
    "\n",
    "matriz=confusion_matrix(y_test_c,rul_prev_c_l)\n",
    "plt.figure(figsize=(10,6))\n",
    "sns.heatmap(matriz,annot=True,cmap='Blues',fmt='d',\n",
    "            xticklabels=['Falha','Não Falha'],yticklabels=['Falha','Não Falha'])\n",
    "plt.title('Matriz de Confusão')\n",
    "plt.show()\n",
    "\n",
    "fpr,tpr,thresholds=roc_curve(y_test_c,rul_prev_c)\n",
    "auc_model = auc(fpr,tpr)\n",
    "\n",
    "plt.figure(figsize=(10,6))\n",
    "plt.plot(fpr,tpr,color='blue',label=f'ROC (Área={auc_model:2f})')\n",
    "plt.plot([0,1],[0,1],ls='--',c='black',alpha=0.7)\n",
    "plt.xlim(-0.05,1)\n",
    "plt.ylim(0,1.05)\n",
    "plt.xlabel('Taxa de Falso Positivo')\n",
    "plt.ylabel('Taxa de Verdadeiro Positivo')\n",
    "plt.title('Curva ROC')\n",
    "plt.legend(loc='lower right')\n",
    "plt.show()"
   ]
  }
 ],
 "metadata": {
  "kernelspec": {
   "display_name": "Python 3",
   "language": "python",
   "name": "python3"
  },
  "language_info": {
   "codemirror_mode": {
    "name": "ipython",
    "version": 3
   },
   "file_extension": ".py",
   "mimetype": "text/x-python",
   "name": "python",
   "nbconvert_exporter": "python",
   "pygments_lexer": "ipython3",
   "version": "3.13.1"
  }
 },
 "nbformat": 4,
 "nbformat_minor": 5
}
